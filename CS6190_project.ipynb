{
  "nbformat": 4,
  "nbformat_minor": 0,
  "metadata": {
    "colab": {
      "name": "CS6190_project.ipynb",
      "provenance": [],
      "collapsed_sections": [],
      "include_colab_link": true
    },
    "kernelspec": {
      "name": "python3",
      "display_name": "Python 3"
    }
  },
  "cells": [
    {
      "cell_type": "markdown",
      "metadata": {
        "id": "view-in-github",
        "colab_type": "text"
      },
      "source": [
        "<a href=\"https://colab.research.google.com/github/REnglert/Housing_Market/blob/master/CS6190_project.ipynb\" target=\"_parent\"><img src=\"https://colab.research.google.com/assets/colab-badge.svg\" alt=\"Open In Colab\"/></a>"
      ]
    },
    {
      "cell_type": "markdown",
      "metadata": {
        "id": "DQszXFYEKswp",
        "colab_type": "text"
      },
      "source": [
        "**Boston Housing Market**\n",
        "\n",
        "CS6190 - Probablistic Modeling Final Project\n",
        "\n",
        "Authors: Bruce Englert, Mario Magana-Garcia"
      ]
    },
    {
      "cell_type": "code",
      "metadata": {
        "id": "0wXUgjlHKSx8",
        "colab_type": "code",
        "colab": {}
      },
      "source": [
        "\"\"\" Standard Library Imports \"\"\"\n",
        "import numpy as np\n",
        "from numpy import linalg as NA\n",
        "\n",
        "import matplotlib.pyplot as plt\n",
        "import matplotlib.colors as colors\n",
        "from matplotlib.patches import Ellipse\n",
        "\n",
        "from scipy import stats\n",
        "from scipy.special import expit #sigmoid - y\n",
        "\n",
        "import pandas as pd\n",
        "\n",
        "from PIL import Image, ImageDraw\n",
        "\n",
        "import sklearn\n",
        "from sklearn.linear_model import LinearRegression\n",
        "from sklearn.linear_model import LogisticRegression\n",
        "from sklearn.model_selection import train_test_split"
      ],
      "execution_count": 0,
      "outputs": []
    },
    {
      "cell_type": "code",
      "metadata": {
        "id": "tv2BibxmNj_N",
        "colab_type": "code",
        "outputId": "981c23a0-8cba-4b77-86fa-a194c101c06a",
        "colab": {
          "base_uri": "https://localhost:8080/",
          "height": 206
        }
      },
      "source": [
        "\"\"\" Read in Data and Format It \"\"\"\n",
        "url = 'https://raw.githubusercontent.com/REnglert/Housing_Market/master/housing.data'\n",
        "df = pd.read_csv(url,sep=\",\", names=\n",
        "                 [\"CRIM\",\"ZN\",\"INDUS\",\"CHAS\",\"NOX\", \"RM\", \"AGE\", \"DIS\", \"RAD\", \"TAX\", \"PTRATIO\", \"B\", \"LSTAT\", \"MEDV\"])\n",
        "df.head()"
      ],
      "execution_count": 2,
      "outputs": [
        {
          "output_type": "execute_result",
          "data": {
            "text/html": [
              "<div>\n",
              "<style scoped>\n",
              "    .dataframe tbody tr th:only-of-type {\n",
              "        vertical-align: middle;\n",
              "    }\n",
              "\n",
              "    .dataframe tbody tr th {\n",
              "        vertical-align: top;\n",
              "    }\n",
              "\n",
              "    .dataframe thead th {\n",
              "        text-align: right;\n",
              "    }\n",
              "</style>\n",
              "<table border=\"1\" class=\"dataframe\">\n",
              "  <thead>\n",
              "    <tr style=\"text-align: right;\">\n",
              "      <th></th>\n",
              "      <th>CRIM</th>\n",
              "      <th>ZN</th>\n",
              "      <th>INDUS</th>\n",
              "      <th>CHAS</th>\n",
              "      <th>NOX</th>\n",
              "      <th>RM</th>\n",
              "      <th>AGE</th>\n",
              "      <th>DIS</th>\n",
              "      <th>RAD</th>\n",
              "      <th>TAX</th>\n",
              "      <th>PTRATIO</th>\n",
              "      <th>B</th>\n",
              "      <th>LSTAT</th>\n",
              "      <th>MEDV</th>\n",
              "    </tr>\n",
              "  </thead>\n",
              "  <tbody>\n",
              "    <tr>\n",
              "      <th>0</th>\n",
              "      <td>0.00632</td>\n",
              "      <td>18.0</td>\n",
              "      <td>2.31</td>\n",
              "      <td>0</td>\n",
              "      <td>0.538</td>\n",
              "      <td>6.575</td>\n",
              "      <td>65.2</td>\n",
              "      <td>4.0900</td>\n",
              "      <td>1</td>\n",
              "      <td>296.0</td>\n",
              "      <td>15.3</td>\n",
              "      <td>396.90</td>\n",
              "      <td>4.98</td>\n",
              "      <td>24.0</td>\n",
              "    </tr>\n",
              "    <tr>\n",
              "      <th>1</th>\n",
              "      <td>0.02731</td>\n",
              "      <td>0.0</td>\n",
              "      <td>7.07</td>\n",
              "      <td>0</td>\n",
              "      <td>0.469</td>\n",
              "      <td>6.421</td>\n",
              "      <td>78.9</td>\n",
              "      <td>4.9671</td>\n",
              "      <td>2</td>\n",
              "      <td>242.0</td>\n",
              "      <td>17.8</td>\n",
              "      <td>396.90</td>\n",
              "      <td>9.14</td>\n",
              "      <td>21.6</td>\n",
              "    </tr>\n",
              "    <tr>\n",
              "      <th>2</th>\n",
              "      <td>0.02729</td>\n",
              "      <td>0.0</td>\n",
              "      <td>7.07</td>\n",
              "      <td>0</td>\n",
              "      <td>0.469</td>\n",
              "      <td>7.185</td>\n",
              "      <td>61.1</td>\n",
              "      <td>4.9671</td>\n",
              "      <td>2</td>\n",
              "      <td>242.0</td>\n",
              "      <td>17.8</td>\n",
              "      <td>392.83</td>\n",
              "      <td>4.03</td>\n",
              "      <td>34.7</td>\n",
              "    </tr>\n",
              "    <tr>\n",
              "      <th>3</th>\n",
              "      <td>0.03237</td>\n",
              "      <td>0.0</td>\n",
              "      <td>2.18</td>\n",
              "      <td>0</td>\n",
              "      <td>0.458</td>\n",
              "      <td>6.998</td>\n",
              "      <td>45.8</td>\n",
              "      <td>6.0622</td>\n",
              "      <td>3</td>\n",
              "      <td>222.0</td>\n",
              "      <td>18.7</td>\n",
              "      <td>394.63</td>\n",
              "      <td>2.94</td>\n",
              "      <td>33.4</td>\n",
              "    </tr>\n",
              "    <tr>\n",
              "      <th>4</th>\n",
              "      <td>0.06905</td>\n",
              "      <td>0.0</td>\n",
              "      <td>2.18</td>\n",
              "      <td>0</td>\n",
              "      <td>0.458</td>\n",
              "      <td>7.147</td>\n",
              "      <td>54.2</td>\n",
              "      <td>6.0622</td>\n",
              "      <td>3</td>\n",
              "      <td>222.0</td>\n",
              "      <td>18.7</td>\n",
              "      <td>396.90</td>\n",
              "      <td>5.33</td>\n",
              "      <td>36.2</td>\n",
              "    </tr>\n",
              "  </tbody>\n",
              "</table>\n",
              "</div>"
            ],
            "text/plain": [
              "      CRIM    ZN  INDUS  CHAS    NOX  ...    TAX  PTRATIO       B  LSTAT  MEDV\n",
              "0  0.00632  18.0   2.31     0  0.538  ...  296.0     15.3  396.90   4.98  24.0\n",
              "1  0.02731   0.0   7.07     0  0.469  ...  242.0     17.8  396.90   9.14  21.6\n",
              "2  0.02729   0.0   7.07     0  0.469  ...  242.0     17.8  392.83   4.03  34.7\n",
              "3  0.03237   0.0   2.18     0  0.458  ...  222.0     18.7  394.63   2.94  33.4\n",
              "4  0.06905   0.0   2.18     0  0.458  ...  222.0     18.7  396.90   5.33  36.2\n",
              "\n",
              "[5 rows x 14 columns]"
            ]
          },
          "metadata": {
            "tags": []
          },
          "execution_count": 2
        }
      ]
    },
    {
      "cell_type": "code",
      "metadata": {
        "id": "r7o4S8_MH-kN",
        "colab_type": "code",
        "outputId": "f8279d32-def5-499d-d936-1d1fcf298d80",
        "colab": {
          "base_uri": "https://localhost:8080/",
          "height": 295
        }
      },
      "source": [
        "df = np.array(df) # convert to numpy array\n",
        "\"\"\" Plot MEDV \"\"\"\n",
        "Y_medv = df[:,-1]\n",
        "Y_medv.sort()\n",
        "plt.scatter(np.linspace(start=0,stop=1,num= Y_medv.shape[0]) ,Y_medv, marker='.')\n",
        "plt.title('1993 Boston Housing Price Sorted')\n",
        "plt.xlabel('index')\n",
        "plt.ylabel('Noramlized Housing Prices MEDV Y')\n",
        "plt.show()"
      ],
      "execution_count": 3,
      "outputs": [
        {
          "output_type": "display_data",
          "data": {
            "image/png": "[encoded data removed]",
            "text/plain": [
              "<Figure size 432x288 with 1 Axes>"
            ]
          },
          "metadata": {
            "tags": []
          }
        }
      ]
    },
    {
      "cell_type": "code",
      "metadata": {
        "id": "9Uv-Ls-UNsX0",
        "colab_type": "code",
        "colab": {}
      },
      "source": [
        "\"\"\" Now we define our own GMM implemented model \"\"\"\n",
        "def multi_norm(X, mu, cov):\n",
        "    return stats.multivariate_normal.pdf(X, np.transpose(mu), cov).reshape(-1,1)\n",
        "\n",
        "def GMM_train(X, iters):\n",
        "  \"\"\"\n",
        "  Performs Gaussian Mixture on data to find clusters\n",
        "  X             : is the data\n",
        "  iters     : Max # of iterations\n",
        "  \"\"\"\n",
        "  # Initializations of clusters\n",
        "  N = X.shape[0]\n",
        "  M = X.shape[1]\n",
        "  k = 3\n",
        "  scores = np.zeros((N, k))\n",
        "  clusters = [] #set of clusters\n",
        "  cov_i = 0.25 * np.identity(2) # Sets initial covariance\n",
        "  pi_0 = 1.0 / k\n",
        "  clusters.append({'pi_k': pi_0,'mu_k': [0, 0], 'cov_k': cov_i})\n",
        "  clusters.append({'pi_k': pi_0,'mu_k': [0.50, 0.50], 'cov_k': cov_i})\n",
        "  clusters.append({'pi_k': pi_0,'mu_k': [1, 1], 'cov_k': cov_i})\n",
        "\n",
        "  # Perform GMM\n",
        "  for i in range(iters):\n",
        "    # E_step\n",
        "    totals = np.zeros((N, 1))\n",
        "    for cluster in clusters:\n",
        "        pi_k = cluster['pi_k']; \n",
        "        mu_k = cluster['mu_k']; \n",
        "        cov_k = cluster['cov_k']; \n",
        "        y_nk = (pi_k * multi_norm(X, mu_k, cov_k));\n",
        "                    \n",
        "        totals += y_nk;        \n",
        "        cluster['y_nk'] = y_nk; \n",
        "        cluster['totals'] = totals;  \n",
        "        \n",
        "    for cluster in clusters:\n",
        "        cluster['y_nk'] /= cluster['totals']  \n",
        "       \n",
        "    # M_step\n",
        "    for cluster in clusters:\n",
        "        y_nk = cluster['y_nk']\n",
        "        cov_k = np.zeros((M, M))      \n",
        "        N_k = np.sum(y_nk)     \n",
        "        pi_k = N_k / N\n",
        "        mu_k = np.sum(y_nk * X, axis=0) / N_k\n",
        "        \n",
        "        for j in range(X.shape[0]):\n",
        "            diff = (X[j] - mu_k).reshape(-1,1)\n",
        "            cov_k += y_nk[j] * np.dot(diff, diff.T)\n",
        "            \n",
        "        cov_k /= N_k\n",
        "        cluster['pi_k'] = pi_k; \n",
        "        cluster['mu_k'] = mu_k; \n",
        "        cluster['cov_k'] = cov_k\n",
        "\n",
        "  # ================== Graph Results ==================\n",
        "  fig, ax = plt.subplots(1, 1)\n",
        "  colorset = ['blue', 'red','green'] \n",
        "  idx = 0\n",
        "\n",
        "  for i, cluster in enumerate(clusters):\n",
        "      scores[:, i] = np.log(cluster['y_nk']).reshape(-1)\n",
        "\n",
        "  for i in range(X.shape[0]):\n",
        "      ax.scatter(X[i, 0], X[i, 1], c=colorset[np.argmax(scores[i])], marker='.')\n",
        "      #print(i)\n",
        "      #print(colorset[np.argmax(scores[i])])\n",
        "\n",
        "  # Through exploration of above data, we found the housing clustering boundaries\n",
        "  plt.plot([0,1], [X[142,1],X[142,1]])  \n",
        "  plt.plot([0,1], [X[384,1],X[384,1]])\n",
        "  print('index change 142')\n",
        "  print(X[142,1])\n",
        "  print('index change 384')\n",
        "  print(X[384,1])\n",
        "\n",
        "  for cluster in clusters:\n",
        "      mu = cluster['mu_k']\n",
        "      cov = cluster['cov_k']\n",
        "      print('Cluster center(mean) = ')\n",
        "      print(mu)\n",
        "      print('Cluster covariance = ')\n",
        "      print(cov)\n",
        "\n",
        "      eigenvalues, eigenvectors = np.linalg.eigh(cov)\n",
        "      order = eigenvalues.argsort()[::-1]\n",
        "      eigenvalues, eigenvectors = eigenvalues[order], eigenvectors[:, order]\n",
        "      vx, vy = eigenvectors[:,0][0], eigenvectors[:,0][1]\n",
        "      theta = np.arctan2(vy, vx)\n",
        "      color = colors.to_rgba(colorset[idx])\n",
        "      for cov_factor in range(1, 4):\n",
        "          ell = Ellipse(xy=mu, width=np.sqrt(eigenvalues[0]) * cov_factor * 2, height=np.sqrt(eigenvalues[1]) * cov_factor * 2, angle=np.degrees(theta), linewidth=2)\n",
        "          ell.set_facecolor((color[0], color[1], color[2], 1.0 / (cov_factor * 4.5)))\n",
        "          ax.add_artist(ell)\n",
        "\n",
        "      plt.scatter(cluster['mu_k'][0], cluster['mu_k'][1], c=colorset[idx], s=1000, marker='+')\n",
        "      idx += 1\n",
        "\n",
        "  plt.title('1993 Boston Housing Price Clusters')\n",
        "  plt.xlabel('index')\n",
        "  plt.ylabel('Noramlized Housing Prices MEDV Y')\n",
        "  plt.show()"
      ],
      "execution_count": 0,
      "outputs": []
    },
    {
      "cell_type": "markdown",
      "metadata": {
        "id": "IB_XlhUuVouG",
        "colab_type": "text"
      },
      "source": [
        "# Now we can look at how our normalized housing prices can be looked at with a clustering algorithm so gain an idea of the different levels of housing price tiers (lower, middle, upper) based on our clusters"
      ]
    },
    {
      "cell_type": "code",
      "metadata": {
        "id": "cpbouLpYJF7G",
        "colab_type": "code",
        "outputId": "794a7286-72c1-49ab-e7a4-325aab9d54e2",
        "colab": {
          "base_uri": "https://localhost:8080/",
          "height": 662
        }
      },
      "source": [
        "\"\"\" Perform GMM on data \"\"\"\n",
        "\"\"\" Normalize data from 0 to 1, and sort medv (lowest to highest) \"\"\"\n",
        "Y_gmm = df[:,-1] #prices\n",
        "y_min = np.min(Y_gmm); y_max = np.max(Y_gmm);\n",
        "for i in range(0, np.size(Y_gmm)):\n",
        "    Y_gmm[i] = (Y_gmm[i] - y_min) / (y_max - y_min)\n",
        "Y_gmm.sort()\n",
        "#print(Y)\n",
        "data_gmm = np.array([np.linspace(start=0,stop=1,num= Y_gmm.shape[0]).ravel(), Y_gmm]).T\n",
        "\n",
        "GMM_train(data_gmm, 20);"
      ],
      "execution_count": 5,
      "outputs": [
        {
          "output_type": "stream",
          "text": [
            "/usr/local/lib/python3.6/dist-packages/ipykernel_launcher.py:63: RuntimeWarning: divide by zero encountered in log\n"
          ],
          "name": "stderr"
        },
        {
          "output_type": "stream",
          "text": [
            "index change 142\n",
            "0.28444444444444444\n",
            "index change 384\n",
            "0.45111111111111113\n",
            "Cluster center(mean) = \n",
            "[0.52267432 0.36768997]\n",
            "Cluster covariance = \n",
            "[[0.01884862 0.00622583]\n",
            " [0.00622583 0.0020598 ]]\n",
            "Cluster center(mean) = \n",
            "[0.14230041 0.18440526]\n",
            "Cluster covariance = \n",
            "[[0.00687519 0.00567118]\n",
            " [0.00567118 0.00497871]]\n",
            "Cluster center(mean) = \n",
            "[0.88057694 0.67687313]\n",
            "Cluster covariance = \n",
            "[[0.00483834 0.01142152]\n",
            " [0.01142152 0.0299761 ]]\n"
          ],
          "name": "stdout"
        },
        {
          "output_type": "display_data",
          "data": {
            "image/png": "[encoded data removed]",
            "text/plain": [
              "<Figure size 432x288 with 1 Axes>"
            ]
          },
          "metadata": {
            "tags": []
          }
        }
      ]
    },
    {
      "cell_type": "markdown",
      "metadata": {
        "id": "pSbOSrQhwHF7",
        "colab_type": "text"
      },
      "source": [
        "Using the results from the GMM clustering algorithm, we can assign labels to specific sets of data: 0 (lower), 1 (middle), 2(upper) for a multi-class logistic regression"
      ]
    },
    {
      "cell_type": "code",
      "metadata": {
        "id": "pwo6xy0yiVML",
        "colab_type": "code",
        "colab": {}
      },
      "source": [
        "\"\"\" Assign labels based on housing tier classification \"\"\"\n",
        "\"\"\" For learning algorithms, labels: 0 (lower), 1 (middle), 2(upper) \"\"\"\n",
        "tier_12_cut = 0.285 * (y_max - y_min) + y_min;\n",
        "tier_23_cut = 0.452 * (y_max - y_min) + y_min;\n",
        "#print(tier_12_cut)\n",
        "#print(tier_23_cut)\n",
        "\n",
        "\"\"\" verification \"\"\"\n",
        "#Y_medv = Y_medv * (y_max - y_min) + y_min\n",
        "#plt.scatter(np.linspace(start=0,stop=1,num=Y_medv.shape[0]), Y_medv, marker='.')\n",
        "#plt.plot([0,1], [tier_12_cut,tier_12_cut])  # Through exploration of above data, we found the housing clustering boundaries\n",
        "#plt.plot([0,1], [tier_23_cut,tier_23_cut])\n",
        "\n",
        "\"\"\" Y_labels for multi-class regression \"\"\"\n",
        "df = pd.read_csv(url,sep=\",\", names=[\"CRIM\",\"ZN\",\"INDUS\",\"CHAS\",\"NOX\", \"RM\", \"AGE\", \"DIS\", \"RAD\", \"TAX\", \"PTRATIO\", \"B\", \"LSTAT\", \"MEDV\"])\n",
        "df = np.array(df)\n",
        "Y_labels = df[:,-1]\n",
        "\n",
        "for i in range(len(Y_labels)):\n",
        "  if Y_labels[i] <= tier_12_cut:\n",
        "    Y_labels[i] = 0\n",
        "  elif Y_labels[i] <= tier_23_cut:\n",
        "    Y_labels[i] = 1\n",
        "  else:\n",
        "    Y_labels[i] = 2\n",
        "\n",
        "\"\"\" Get Y_labels_3 (dirty method) by splitting multi-class target label into seperate labels \"\"\"\n",
        "\"\"\" lower or not, middle or not, upper or not \"\"\"\n",
        "\"\"\" when targetting a specific label, just extract that column vector \"\"\"\n",
        "Y_labels_3 = np.zeros([len(Y_labels), 3])\n",
        "#print(Y_labels_3.shape)\n",
        "for i in range(len(Y_labels)):\n",
        "  if Y_labels[i] == 0:\n",
        "    Y_labels_3[i,0] = 1\n",
        "  elif Y_labels[i] == 1:\n",
        "    Y_labels_3[i,1] = 1\n",
        "  else:\n",
        "    Y_labels_3[i,2] = 1\n",
        "\n",
        "#print(Y_labels_3)"
      ],
      "execution_count": 0,
      "outputs": []
    },
    {
      "cell_type": "code",
      "metadata": {
        "id": "jj424U8CMaUu",
        "colab_type": "code",
        "colab": {}
      },
      "source": [
        "\"\"\" Format/Normalize Data \"\"\"\n",
        "from sklearn.preprocessing import normalize\n",
        "\n",
        "X_normed = normalize(df[:,:-1], axis=1, norm='l2') #grab all parameters except target label"
      ],
      "execution_count": 0,
      "outputs": []
    },
    {
      "cell_type": "markdown",
      "metadata": {
        "id": "aLnnZ0Zh_pmI",
        "colab_type": "text"
      },
      "source": [
        "SkLean Methods on our dataset Logistic Regression & Linear Regression"
      ]
    },
    {
      "cell_type": "code",
      "metadata": {
        "id": "qv0pZCe8Of-V",
        "colab_type": "code",
        "outputId": "2596cdbf-3dda-465a-e9ae-36f54751b83a",
        "colab": {
          "base_uri": "https://localhost:8080/",
          "height": 35
        }
      },
      "source": [
        "\"\"\" sklearn Logistic Regression \"\"\"\n",
        "\"\"\"Split data: %33 test\"\"\"\n",
        "X_train,X_test,Y_train,Y_test=train_test_split(X_normed,Y_labels,test_size=0.33,random_state=0)\n",
        "logR = LogisticRegression(solver='lbfgs', multi_class='multinomial', max_iter = 5000)\n",
        "\"\"\"Fit\"\"\"\n",
        "logR.fit(X_train, Y_train)\n",
        "\"\"\"Predict\"\"\"\n",
        "Y_pred= logR.predict(X_test)\n",
        "\"\"\"Score\"\"\"\n",
        "score = logR.score(X_normed,Y_labels)\n",
        "print(\"Mean Accuracy: \", score)"
      ],
      "execution_count": 8,
      "outputs": [
        {
          "output_type": "stream",
          "text": [
            "Mean Accuracy:  0.6047430830039525\n"
          ],
          "name": "stdout"
        }
      ]
    },
    {
      "cell_type": "code",
      "metadata": {
        "id": "bR4fFCS473qf",
        "colab_type": "code",
        "outputId": "2263a64c-7d15-4485-80d5-d9a9d4fb9862",
        "colab": {
          "base_uri": "https://localhost:8080/",
          "height": 313
        }
      },
      "source": [
        "\"\"\"sklearn Linear Regression Model Looking at pricing \"\"\"\n",
        "\"\"\"Setup train and testing data\"\"\"\n",
        "df = pd.read_csv(url,sep=\",\", names=\n",
        "                 [\"CRIM\",\"ZN\",\"INDUS\",\"CHAS\",\"NOX\", \"RM\", \"AGE\", \"DIS\", \"RAD\", \"TAX\", \"PTRATIO\", \"B\", \"LSTAT\", \"MEDV\"])\n",
        "Y = df['MEDV']\n",
        "X = df.drop('MEDV', axis = 1)\n",
        "X_train, X_test, Y_train, Y_test = train_test_split(X, Y, test_size = 0.33, random_state = 0)\n",
        "\n",
        "\"\"\"Linear Regression\"\"\"\n",
        "linR = LinearRegression()\n",
        "linR.fit(X_train, Y_train)\n",
        "Y_pred = linR.predict(X_test)\n",
        "\n",
        "\"\"\"Plot scatter of data\"\"\"\n",
        "plt.scatter(Y_test, Y_pred)\n",
        "plt.xlabel(\"Prices\")\n",
        "plt.ylabel(\"Predicted prices\")\n",
        "plt.title(\"Linear Regression: MEDV Prices vs Predicted prices\")\n",
        "\n",
        "\"\"\"Evaluate Error\"\"\"\n",
        "mse = sklearn.metrics.mean_squared_error(Y_test, Y_pred)\n",
        "print(\"Error: \", mse)\n",
        "\n",
        "plt.plot([0,50],[0,50],label='x=y')\n",
        "plt.legend()\n",
        "plt.show()"
      ],
      "execution_count": 9,
      "outputs": [
        {
          "output_type": "stream",
          "text": [
            "Error:  26.558581842040596\n"
          ],
          "name": "stdout"
        },
        {
          "output_type": "display_data",
          "data": {
            "image/png": "[encoded data removed]",
            "text/plain": [
              "<Figure size 432x288 with 1 Axes>"
            ]
          },
          "metadata": {
            "tags": []
          }
        }
      ]
    },
    {
      "cell_type": "markdown",
      "metadata": {
        "id": "Jp_ERdQErWBs",
        "colab_type": "text"
      },
      "source": [
        "Split Data for our logistic regression methods\n"
      ]
    },
    {
      "cell_type": "code",
      "metadata": {
        "id": "sYU8OGrx4ZHk",
        "colab_type": "code",
        "colab": {}
      },
      "source": [
        "\"\"\" Logistic Regression with Raphson-Newton updates \"\"\"\n",
        "def raphson_newton_log_reg_train(X_train, Y_train, label):\n",
        "  # Initialize params\n",
        "  m,n = np.shape(X_train)\n",
        "  X0 = np.ones((m,1))\n",
        "  Phi = np.hstack((X0,X_train))\n",
        "\n",
        "  W = np.zeros((n+1,1)) \n",
        "  maxIters = 10\n",
        "  tol = 1e-6\n",
        "\n",
        "  ilist = []\n",
        "  errlist = []\n",
        "\n",
        "  for i in range(0,maxIters):\n",
        "      y = expit(Phi @ W)\n",
        "      R = np.identity(m) * y * (1 - y)\n",
        "      Z = Phi @ W - NA.inv(R) @ (y - Y_train)\n",
        "      \n",
        "      W_new = NA.inv(Phi.T @ R @ Phi) @ Phi.T @ R @ Z\n",
        "      \n",
        "      err = NA.norm(W_new - W)\n",
        "      W = W_new\n",
        "\n",
        "      ilist.append(i)\n",
        "      errlist.append(err)\n",
        "      \n",
        "  plt.plot(ilist,errlist, label=label)\n",
        "  plt.title('Logistic Regression Raphsen-Newton : Error')\n",
        "  plt.xlabel('iterations i')\n",
        "  plt.ylabel('Error norm')\n",
        "  return W"
      ],
      "execution_count": 0,
      "outputs": []
    },
    {
      "cell_type": "code",
      "metadata": {
        "id": "7KTazACVra6j",
        "colab_type": "code",
        "colab": {}
      },
      "source": [
        "\"\"\" Perform logistic regression models to find weights, parameters, convergence, and accuracy \"\"\"\n",
        "m = 355\n",
        "n = 13\n",
        "X_data = X_normed[:m,:n]\n",
        "t_label0 = Y_labels_3[:m,0].reshape(m,1)\n",
        "t_label1 = Y_labels_3[:m,1].reshape(m,1)\n",
        "t_label2 = Y_labels_3[:m,2].reshape(m,1)\n",
        "\n",
        "# Get test data to check accuracy of weights\n",
        "t_test0 = Y_labels_3[m:,0].reshape(-1)\n",
        "t_test1 = Y_labels_3[m:,1].reshape(-1)\n",
        "t_test2 = Y_labels_3[m:,2].reshape(-1)\n",
        "\n",
        "X_test = X_normed[m:,:]\n",
        "X0 = np.ones((X_test.shape[0],1))\n",
        "X_test = np.hstack((X0,X_test))"
      ],
      "execution_count": 0,
      "outputs": []
    },
    {
      "cell_type": "code",
      "metadata": {
        "id": "ZII0HjuXqRmG",
        "colab_type": "code",
        "outputId": "0c7d4220-887e-492c-b9a2-92026efd7b42",
        "colab": {
          "base_uri": "https://localhost:8080/",
          "height": 1000
        }
      },
      "source": [
        "# perform log regression\n",
        "weights0 = raphson_newton_log_reg_train(X_data,t_label0, 'Lower')\n",
        "print(\"Lower Weights = \" + str(weights0))\n",
        "weights1 = raphson_newton_log_reg_train(X_data,t_label1, 'Middle')\n",
        "print(\"Middle Weights = \" + str(weights1))\n",
        "weights2 = raphson_newton_log_reg_train(X_data,t_label2, 'Upper')\n",
        "print(\"Upper Weights = \" + str(weights2))\n",
        "plt.legend()\n",
        "plt.xticks([0,1, 2, 3, 4, 5,6,7,8])\n",
        "\n",
        "# check accuracy\n",
        "preds = np.round(expit(X_test @ weights0))\n",
        "count = 0\n",
        "for i in range(len(preds)):\n",
        "  if(preds[i] == t_test0[i]):\n",
        "    count += 1\n",
        "print('Accuracy for test data lower t_0 :'); print(count / len(preds));\n",
        " \n",
        "preds = np.round(expit(X_test @ weights1))\n",
        "count = 0\n",
        "for i in range(len(preds)):\n",
        "  if(preds[i] == t_test1[i]):\n",
        "    count += 1\n",
        "print('Accuracy for test data middle t_1 :'); print(count / len(preds));\n",
        "\n",
        "preds = np.round(expit(X_test @ weights2))\n",
        "count = 0\n",
        "for i in range(len(preds)):\n",
        "  if(preds[i] == t_test2[i]):\n",
        "    count += 1\n",
        "print('Accuracy for test data upper t_2 :'); print(count / len(preds));"
      ],
      "execution_count": 12,
      "outputs": [
        {
          "output_type": "stream",
          "text": [
            "Lower Weights = [[  -27.92576808]\n",
            " [  424.36222075]\n",
            " [  -33.12757889]\n",
            " [    6.97077792]\n",
            " [ -526.86894259]\n",
            " [ 4328.423189  ]\n",
            " [-1532.77558443]\n",
            " [   33.0006383 ]\n",
            " [  714.14222613]\n",
            " [ -553.66327993]\n",
            " [   25.10911746]\n",
            " [  169.84508699]\n",
            " [    9.54685665]\n",
            " [  136.73688241]]\n",
            "Middle Weights = [[   34.8048877 ]\n",
            " [ -464.80728736]\n",
            " [  -11.09300053]\n",
            " [   38.61409603]\n",
            " [   61.27806023]\n",
            " [  332.21923501]\n",
            " [-1191.52961466]\n",
            " [   -4.17773944]\n",
            " [  146.32454771]\n",
            " [   79.2847276 ]\n",
            " [  -18.26282177]\n",
            " [   67.45182281]\n",
            " [  -14.22647468]\n",
            " [  -76.3823723 ]]\n",
            "Upper Weights = [[ 2.55891441e+00]\n",
            " [ 5.76522201e+01]\n",
            " [-7.10419394e-01]\n",
            " [-3.23898424e+01]\n",
            " [ 3.52988449e+02]\n",
            " [-6.88447136e+03]\n",
            " [ 2.34476206e+03]\n",
            " [-2.80838570e+00]\n",
            " [-3.17263925e+02]\n",
            " [ 6.66177529e+01]\n",
            " [-1.05477912e+01]\n",
            " [-2.82018574e+02]\n",
            " [-7.95454572e+00]\n",
            " [-1.09534734e+02]]\n",
            "Accuracy for test data lower t_0 :\n",
            "0.5033112582781457\n",
            "Accuracy for test data middle t_1 :\n",
            "0.5761589403973509\n",
            "Accuracy for test data upper t_2 :\n",
            "0.9139072847682119\n"
          ],
          "name": "stdout"
        },
        {
          "output_type": "display_data",
          "data": {
            "image/png": "[encoded data removed]",
            "text/plain": [
              "<Figure size 432x288 with 1 Axes>"
            ]
          },
          "metadata": {
            "tags": []
          }
        }
      ]
    },
    {
      "cell_type": "code",
      "metadata": {
        "id": "zsXodayOwSbV",
        "colab_type": "code",
        "colab": {}
      },
      "source": [
        "\"\"\" Logistic Regression with Variational Inference EM style updates \"\"\"\n",
        "def variational_log_reg_train(X_train, Y_train, label):\n",
        "  # Initializations\n",
        "  m,n = X_train.shape\n",
        "  Phi = np.append(X_train, np.ones([m,1]),1) #add intercept\n",
        "  s_0 = np.eye(n+1)\n",
        "  x_i = np.random.uniform(-1,1, size=m)\n",
        "  max_iters = 6\n",
        "  tol = 1e-5\n",
        "\n",
        "  ilist = []\n",
        "  errlist = []\n",
        "\n",
        "  # Train Model\n",
        "  for i in range(max_iters):\n",
        "      lambda_ = (expit(x_i) - 1/2) / (2 * x_i)\n",
        "      s_n = NA.inv(NA.inv(s_0) + 2 * (lambda_ * Phi.T).dot(Phi))       \n",
        "      m_n = s_n.dot(np.sum(Phi.T @ (Y_train - 1/2), axis=1))       \n",
        "      x_i_New = np.sqrt(np.sum(Phi.dot(s_n + m_n * m_n.T[:, None]) * Phi, axis=1)) \n",
        "     \n",
        "      err = NA.norm(x_i_New - x_i)\n",
        "      x_i = x_i_New\n",
        "\n",
        "      ilist.append(i)\n",
        "      errlist.append(err)\n",
        "\n",
        "  plt.plot(ilist,errlist,label=label)\n",
        "  plt.title('Variational Logistic Regression: Error')\n",
        "  plt.xlabel('iterations i')\n",
        "  plt.ylabel('Error norm')\n",
        "  return m_n"
      ],
      "execution_count": 0,
      "outputs": []
    },
    {
      "cell_type": "code",
      "metadata": {
        "id": "dqiihkbK6Z1H",
        "colab_type": "code",
        "outputId": "3d8395fb-ddf5-4dce-850f-190603e9470f",
        "colab": {
          "base_uri": "https://localhost:8080/",
          "height": 589
        }
      },
      "source": [
        "weights0 = variational_log_reg_train(X_data,t_label0, 'Lower')\n",
        "print(weights0)\n",
        "weights1 = variational_log_reg_train(X_data,t_label1, 'Middle')\n",
        "print(weights1)\n",
        "weights2 = variational_log_reg_train(X_data,t_label2, 'Upper')\n",
        "print(weights2)\n",
        "plt.legend()\n",
        "plt.xticks([0,1, 2, 3, 4, 5])\n",
        "\n",
        "# check accuracy\n",
        "preds = np.round(expit(X_test @ weights0))\n",
        "count = 0\n",
        "for i in range(len(preds)):\n",
        "  if(preds[i] == t_test0[i]):\n",
        "    count += 1\n",
        "print('Accuracy for test data lower t_0 :'); print(count / len(preds));\n",
        " \n",
        "preds = np.round(expit(X_test @ weights1))\n",
        "count = 0\n",
        "for i in range(len(preds)):\n",
        "  if(preds[i] == t_test1[i]):\n",
        "    count += 1\n",
        "print('Accuracy for test data middle t_1 :'); print(count / len(preds));\n",
        "\n",
        "preds = np.round(expit(X_test @ weights2))\n",
        "count = 0\n",
        "for i in range(len(preds)):\n",
        "  if(preds[i] == t_test2[i]):\n",
        "    count += 1\n",
        "print('Accuracy for test data upper t_2 :'); print(count / len(preds));"
      ],
      "execution_count": 14,
      "outputs": [
        {
          "output_type": "stream",
          "text": [
            "[ 5.29408304e-02 -1.01295328e+00  3.63946746e-01 -9.14365246e-04\n",
            "  6.65423873e-03 -7.01323870e-02  1.94854877e+00 -6.25866816e-02\n",
            " -5.29772015e-02  1.27208934e+00  4.42958097e-02 -2.64508121e+00\n",
            "  7.68344317e-01 -8.22058359e-01]\n",
            "[-0.04075012 -1.26345589  0.1680747  -0.00686472 -0.00599092 -0.1227253\n",
            " -1.19036324  0.06629628 -0.00806323  0.46906296  0.12786437  0.25078878\n",
            "  0.09829921 -0.13750519]\n",
            "[-0.0127923   2.05631547 -0.54289941  0.00729447 -0.00240351  0.16584517\n",
            " -0.75628169 -0.02839492  0.05116766 -2.25667867 -0.2356836   1.33739294\n",
            " -0.87296843 -0.37586769]\n",
            "Accuracy for test data lower t_0 :\n",
            "0.6225165562913907\n",
            "Accuracy for test data middle t_1 :\n",
            "0.31788079470198677\n",
            "Accuracy for test data upper t_2 :\n",
            "0.9403973509933775\n"
          ],
          "name": "stdout"
        },
        {
          "output_type": "display_data",
          "data": {
            "image/png": "[encoded data removed]",
            "text/plain": [
              "<Figure size 432x288 with 1 Axes>"
            ]
          },
          "metadata": {
            "tags": []
          }
        }
      ]
    },
    {
      "cell_type": "code",
      "metadata": {
        "id": "I4J92PQN7AUv",
        "colab_type": "code",
        "colab": {}
      },
      "source": [
        ""
      ],
      "execution_count": 0,
      "outputs": []
    }
  ]
}